{
  "nbformat": 4,
  "nbformat_minor": 0,
  "metadata": {
    "colab": {
      "name": "recursion_dynamic_program.ipynb",
      "provenance": [],
      "authorship_tag": "ABX9TyMB+8i5ixPv7vHmcZoTJpgL",
      "include_colab_link": true
    },
    "kernelspec": {
      "name": "python3",
      "display_name": "Python 3"
    }
  },
  "cells": [
    {
      "cell_type": "markdown",
      "metadata": {
        "id": "view-in-github",
        "colab_type": "text"
      },
      "source": [
        "<a href=\"https://colab.research.google.com/github/StanleyLiangYork/Basic_Python_scripts/blob/master/recursion_dynamic_program.ipynb\" target=\"_parent\"><img src=\"https://colab.research.google.com/assets/colab-badge.svg\" alt=\"Open In Colab\"/></a>"
      ]
    },
    {
      "cell_type": "markdown",
      "metadata": {
        "id": "dBG8ehAfy2Nz",
        "colab_type": "text"
      },
      "source": [
        "Factorial by recursion"
      ]
    },
    {
      "cell_type": "code",
      "metadata": {
        "id": "yYZDyk1Ayl8_",
        "colab_type": "code",
        "colab": {
          "base_uri": "https://localhost:8080/",
          "height": 35
        },
        "outputId": "f52e62c5-cf30-4bd7-8504-446ecff308bb"
      },
      "source": [
        "def factorial(n):\n",
        "  if n < 2:\n",
        "    return 1\n",
        "  else:\n",
        "    return n * factorial(n-1)\n",
        "\n",
        "factorial(10)"
      ],
      "execution_count": 11,
      "outputs": [
        {
          "output_type": "execute_result",
          "data": {
            "text/plain": [
              "3628800"
            ]
          },
          "metadata": {
            "tags": []
          },
          "execution_count": 11
        }
      ]
    },
    {
      "cell_type": "markdown",
      "metadata": {
        "id": "UzVheNYspc80",
        "colab_type": "text"
      },
      "source": [
        "Find the total number of subsets of a given list that the sum of the subset elements equals to a particular number"
      ]
    },
    {
      "cell_type": "code",
      "metadata": {
        "id": "TU93Hkn8l7hB",
        "colab_type": "code",
        "colab": {}
      },
      "source": [
        "def rec(arr, total, i):\n",
        "  if total == 0:\n",
        "    return 1\n",
        "  elif total < 0:\n",
        "    return 0\n",
        "  elif i < 0:\n",
        "    return 0\n",
        "  elif total < arr[i]:\n",
        "    return rec(arr, total, i-1)\n",
        "  else:\n",
        "    return rec(arr, total-arr[i],i-1) + rec(arr, total, i-1)"
      ],
      "execution_count": 0,
      "outputs": []
    },
    {
      "cell_type": "code",
      "metadata": {
        "id": "iTDE-UUGW_gP",
        "colab_type": "code",
        "colab": {}
      },
      "source": [
        "def count_set(arr, total):\n",
        "  return rec(arr,total, len(arr)-1)"
      ],
      "execution_count": 0,
      "outputs": []
    },
    {
      "cell_type": "code",
      "metadata": {
        "id": "ykVWtZW7msve",
        "colab_type": "code",
        "colab": {
          "base_uri": "https://localhost:8080/",
          "height": 35
        },
        "outputId": "b863aae1-7ce1-4427-bce7-6f9246074ec3"
      },
      "source": [
        "a = [2,4,6,10,8,100]\n",
        "count_set(a, 108)"
      ],
      "execution_count": 13,
      "outputs": [
        {
          "output_type": "execute_result",
          "data": {
            "text/plain": [
              "2"
            ]
          },
          "metadata": {
            "tags": []
          },
          "execution_count": 13
        }
      ]
    },
    {
      "cell_type": "code",
      "metadata": {
        "id": "j8vFA_1ezPQA",
        "colab_type": "code",
        "colab": {}
      },
      "source": [
        "def dynamicP(arr, total, i, mem):\n",
        "  key = str(total)+\":\"+str(i)\n",
        "  if key in mem:\n",
        "    return mem[key]\n",
        "  if total == 0:\n",
        "    return 1\n",
        "  elif total < 0:\n",
        "    return 0\n",
        "  elif i < 0:\n",
        "    return 0\n",
        "  elif total < arr[i]:\n",
        "    to_return = dynamicP(arr, total, i-1, mem)\n",
        "  else:\n",
        "    to_return = dynamicP(arr, total-arr[i], i-1, mem) + dynamicP(arr, total, i-1, mem)\n",
        "  mem[key] = to_return\n",
        "  return to_return"
      ],
      "execution_count": 0,
      "outputs": []
    },
    {
      "cell_type": "code",
      "metadata": {
        "id": "ecXrmxsJ7QNs",
        "colab_type": "code",
        "colab": {}
      },
      "source": [
        "def count_set_dyp(arr, total):\n",
        "  mem = {}\n",
        "  return dynamicP(arr,total, len(arr)-1, mem)"
      ],
      "execution_count": 0,
      "outputs": []
    },
    {
      "cell_type": "code",
      "metadata": {
        "id": "ssnGwXs97Y4w",
        "colab_type": "code",
        "colab": {
          "base_uri": "https://localhost:8080/",
          "height": 35
        },
        "outputId": "0dd77645-31d9-458c-ac98-32ab0b7221dc"
      },
      "source": [
        "a = [2,4,6,10,8,100]\n",
        "count_set_dyp(a, 108)"
      ],
      "execution_count": 31,
      "outputs": [
        {
          "output_type": "execute_result",
          "data": {
            "text/plain": [
              "2"
            ]
          },
          "metadata": {
            "tags": []
          },
          "execution_count": 31
        }
      ]
    }
  ]
}